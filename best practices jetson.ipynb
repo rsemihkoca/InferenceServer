{
 "cells": [
  {
   "cell_type": "markdown",
   "metadata": {},
   "source": [
    "```markdown\n",
    "# Best Practices for Using NVIDIA Jetson\n",
    "\n",
    "When using NVIDIA Jetson, follow these best practices to enable maximum performance, especially when running YOLOv8.\n",
    "\n",
    "## Enable MAX Power Mode\n",
    "\n",
    "Enabling MAX Power Mode on the Jetson ensures that all CPU and GPU cores are turned on.\n",
    "\n",
    "```bash\n",
    "sudo nvpmodel -m 0\n",
    "```\n",
    "\n",
    "## Enable Jetson Clocks\n",
    "\n",
    "Enabling Jetson Clocks ensures that all CPU and GPU cores are clocked at their maximum frequency.\n",
    "\n",
    "```bash\n",
    "sudo jetson_clocks\n",
    "```\n",
    "\n",
    "## Install Jetson Stats Application\n",
    "\n",
    "The Jetson Stats application allows you to monitor the temperatures of the system components and check other system details such as CPU, GPU, RAM utilization, change power modes, set to max clocks, and check JetPack information.\n",
    "\n",
    "```bash\n",
    "sudo apt update\n",
    "sudo pip install jetson-stats\n",
    "sudo reboot\n",
    "jtop\n",
    "```\n",
    "\n",
    "### Jetson Stats\n",
    "- Monitor system temperatures\n",
    "- View CPU, GPU, and RAM utilization\n",
    "- Change power modes\n",
    "- Set to max clocks\n",
    "- Check JetPack information\n",
    "```\n",
    "\n",
    "This markdown format organizes the instructions clearly, making it easy to follow each step.\n",
    "```"
   ]
  },
  {
   "cell_type": "markdown",
   "metadata": {},
   "source": []
  }
 ],
 "metadata": {
  "language_info": {
   "name": "python"
  }
 },
 "nbformat": 4,
 "nbformat_minor": 2
}
